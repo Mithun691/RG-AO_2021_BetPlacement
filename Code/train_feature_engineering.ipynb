{
 "cells": [
  {
   "cell_type": "code",
   "execution_count": 56,
   "source": [
    "import pandas as pd\r\n",
    "import numpy as np"
   ],
   "outputs": [],
   "metadata": {}
  },
  {
   "cell_type": "code",
   "execution_count": 61,
   "source": [
    "data = pd.read_csv(\"../Results/preprocessed_data.csv\")\r\n",
    "data = data.drop(columns=[\"Name1\",\"Name2\"])\r\n",
    "data[\"transformedRank1\"] = data[\"Rank1\"].apply(lambda x: 1.0 + np.log10(x))\r\n",
    "data[\"transformedRank2\"] = data[\"Rank2\"].apply(lambda x: 1.0 + np.log10(x))\r\n",
    "\r\n",
    "data[\"careerMatches1\"] = (data[\"Wins1\"]+data[\"Losses1\"])\r\n",
    "data[\"careerWin%1\"] = data[\"Wins1\"]/data[\"careerMatches1\"]\r\n",
    "data[\"surfaceWin%1\"] = data[\"surfaceWins1\"]/(data[\"surfaceWins1\"]+data[\"surfaceLosses1\"])\r\n",
    "data[\"bestOfWin%1\"] = data[\"bestOfWins1\"]/(data[\"bestOfWins1\"]+data[\"bestOfLosses1\"])\r\n",
    "data[\"tournamentWin%1\"] = data[\"tournamentWins1\"]/(data[\"tournamentWins1\"]+data[\"tournamentLosses1\"])\r\n",
    "data[\"tiebreakerWin%1\"] = data[\"tbWins1\"]/(data[\"tbWins1\"]+data[\"tbLoses1\"])\r\n",
    "data[\"deciderWin%1\"] = data[\"deciderWins1\"]/(data[\"deciderWins1\"]+data[\"deciderLosses1\"])\r\n",
    "data[\"wearOut1\"] = 1.0-np.exp(-3000.0*data[\"Gap1\"]/data[\"Length1\"])\r\n",
    "data[\"careerMatches1\"] = data[\"careerMatches1\"]/100.0\r\n",
    "\r\n",
    "data[\"careerMatches2\"] = (data[\"Wins2\"]+data[\"Losses2\"])\r\n",
    "data[\"careerWin%2\"] = data[\"Wins2\"]/data[\"careerMatches2\"]\r\n",
    "data[\"surfaceWin%2\"] = data[\"surfaceWins2\"]/(data[\"surfaceWins2\"]+data[\"surfaceLosses2\"])\r\n",
    "data[\"bestOfWin%2\"] = data[\"bestOfWins2\"]/(data[\"bestOfWins2\"]+data[\"bestOfLosses2\"])\r\n",
    "data[\"tournamentWin%2\"] = data[\"tournamentWins2\"]/(data[\"tournamentWins2\"]+data[\"tournamentLosses2\"])\r\n",
    "data[\"tiebreakerWin%2\"] = data[\"tbWins2\"]/(data[\"tbWins2\"]+data[\"tbLoses2\"])\r\n",
    "data[\"deciderWin%2\"] = data[\"deciderWins2\"]/(data[\"deciderWins2\"]+data[\"deciderLosses2\"])\r\n",
    "data[\"wearOut2\"] = 1.0-np.exp(-3000.0*data[\"Gap2\"]/data[\"Length2\"])\r\n",
    "data[\"careerMatches2\"] = data[\"careerMatches2\"]/100.0\r\n",
    "\r\n",
    "data[\"careerH2H\"] = (data[\"h2h1\"]+data[\"h2h2\"])\r\n",
    "data[\"h2hWin%1\"] = data[\"h2h1\"]/data[\"careerH2H\"]\r\n",
    "data[\"careerH2H\"] = data[\"careerH2H\"]/10.0"
   ],
   "outputs": [],
   "metadata": {}
  },
  {
   "cell_type": "code",
   "execution_count": 62,
   "source": [
    "myCols = [\"transformedRank1\",\"careerMatches1\",\"careerWin%1\",\"surfaceWin%1\",\"bestOfWin%1\",\"tournamentWin%1\",\"tiebreakerWin%1\",\"deciderWin%1\",\"wearOut1\",\"transformedRank2\",\"careerMatches2\",\"careerWin%2\",\"surfaceWin%2\",\"bestOfWin%2\",\"tournamentWin%2\",\"tiebreakerWin%2\",\"deciderWin%2\",\"wearOut2\",\"careerH2H\",\"h2hWin%1\",\"Upset\",\"Odds1\",\"Odds2\"]\r\n",
    "data = data[myCols]"
   ],
   "outputs": [],
   "metadata": {}
  },
  {
   "cell_type": "code",
   "execution_count": 63,
   "source": [
    "for col in myCols:\r\n",
    "    data[col].fillna(data[col].mean(),inplace=True)"
   ],
   "outputs": [],
   "metadata": {}
  },
  {
   "cell_type": "code",
   "execution_count": 65,
   "source": [
    "data.to_csv(\"../Results/final_data.csv\",index=None)"
   ],
   "outputs": [],
   "metadata": {}
  }
 ],
 "metadata": {
  "orig_nbformat": 4,
  "language_info": {
   "name": "python",
   "version": "3.8.5",
   "mimetype": "text/x-python",
   "codemirror_mode": {
    "name": "ipython",
    "version": 3
   },
   "pygments_lexer": "ipython3",
   "nbconvert_exporter": "python",
   "file_extension": ".py"
  },
  "kernelspec": {
   "name": "python3",
   "display_name": "Python 3.8.5 64-bit ('base': conda)"
  },
  "interpreter": {
   "hash": "b611f9506ff47db601d0c62cfb9797de1639800efc276724dd7e0b9f92394463"
  }
 },
 "nbformat": 4,
 "nbformat_minor": 2
}