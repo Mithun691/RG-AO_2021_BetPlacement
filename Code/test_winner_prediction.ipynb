{
 "cells": [
  {
   "cell_type": "code",
   "execution_count": 1,
   "source": [
    "import numpy as np\r\n",
    "import pandas as pd\r\n",
    "import torch\r\n",
    "import torch.nn as nn\r\n",
    "import torch.nn.functional as F\r\n",
    "import matplotlib.pyplot as plt"
   ],
   "outputs": [],
   "metadata": {}
  },
  {
   "cell_type": "code",
   "execution_count": 2,
   "source": [
    "data = pd.read_csv(\"../Results/RG-2021_final_data.csv\")"
   ],
   "outputs": [],
   "metadata": {}
  },
  {
   "cell_type": "code",
   "execution_count": 3,
   "source": [
    "input_features = ['transformedRank1', 'careerMatches1', 'careerWin%1', 'surfaceWin%1', 'tiebreakerWin%1', 'deciderWin%1', 'wearOut1', 'transformedRank2', 'careerMatches1', 'careerWin%2', 'surfaceWin%2', 'tiebreakerWin%2', 'deciderWin%2', 'wearOut2', 'careerH2H', 'h2hWin%1']\r\n",
    "\r\n",
    "X = np.array(data[input_features])\r\n",
    "y = np.array(data[\"Upset\"])\r\n",
    "odds = data[[\"Odds1\",\"Odds2\"]]"
   ],
   "outputs": [],
   "metadata": {}
  },
  {
   "cell_type": "code",
   "execution_count": 4,
   "source": [
    "X_test = torch.from_numpy(X)\r\n",
    "y_test = torch.from_numpy(y)"
   ],
   "outputs": [],
   "metadata": {}
  },
  {
   "cell_type": "code",
   "execution_count": 5,
   "source": [
    "### Initialze the network\r\n",
    "\r\n",
    "input_size = 16\r\n",
    "output_size = 2            # Player's winning probability and variance in its prediction\r\n",
    "\r\n",
    "model = nn.Sequential(\r\n",
    "    nn.Dropout(0.5),\r\n",
    "    nn.Linear(input_size,output_size),\r\n",
    "    nn.Sigmoid()\r\n",
    ")\r\n",
    "\r\n",
    "print(model)"
   ],
   "outputs": [
    {
     "output_type": "stream",
     "name": "stdout",
     "text": [
      "Sequential(\n",
      "  (0): Dropout(p=0.5, inplace=False)\n",
      "  (1): Linear(in_features=16, out_features=2, bias=True)\n",
      "  (2): Sigmoid()\n",
      ")\n"
     ]
    }
   ],
   "metadata": {}
  },
  {
   "cell_type": "code",
   "execution_count": 6,
   "source": [
    "model.load_state_dict(torch.load(\"../Results/model_weights.pt\"))"
   ],
   "outputs": [
    {
     "output_type": "execute_result",
     "data": {
      "text/plain": [
       "<All keys matched successfully>"
      ]
     },
     "metadata": {},
     "execution_count": 6
    }
   ],
   "metadata": {}
  },
  {
   "cell_type": "code",
   "execution_count": 7,
   "source": [
    "def customLoss(y_pred,y):\r\n",
    "    y_pred = torch.max(0.001*torch.ones_like(y_pred),y_pred)\r\n",
    "    prob = y_pred[:,0].unsqueeze(1)\r\n",
    "    var = y_pred[:,1].unsqueeze(1)\r\n",
    "    # torch.mean(F.binary_cross_entropy(prob,y,reduction='none')/var + var)\r\n",
    "    return  torch.mean(F.binary_cross_entropy(prob,y,reduction='none')/(100*var) + var)\r\n",
    "\r\n",
    "criterion = customLoss"
   ],
   "outputs": [],
   "metadata": {}
  },
  {
   "cell_type": "code",
   "execution_count": 8,
   "source": [
    "y_pred = model(X_test.float())\r\n",
    "predictions = y_pred.detach().numpy()\r\n",
    "\r\n",
    "plt.figure(figsize=(10,5))\r\n",
    "plt.hist(predictions,bins=20)\r\n",
    "plt.title(\"Prediction distribution\")\r\n",
    "plt.legend([\"Upset probability\",\"Variance\"])\r\n",
    "plt.show()"
   ],
   "outputs": [
    {
     "output_type": "display_data",
     "data": {
      "text/plain": [
       "<Figure size 720x360 with 1 Axes>"
      ],
      "image/png": "[encoded data removed]"
     },
     "metadata": {
      "needs_background": "light"
     }
    }
   ],
   "metadata": {}
  },
  {
   "cell_type": "code",
   "execution_count": 9,
   "source": [
    "odds_test = odds.copy(deep=True)\r\n",
    "odds_test = odds_test.reset_index()\r\n",
    "odds_test.drop(columns=[\"index\"],inplace=True)\r\n",
    "\r\n",
    "final_data = pd.DataFrame()\r\n",
    "final_data[\"Predicted prob\"] = predictions[:,0]\r\n",
    "final_data[\"Predicted variance\"] = predictions[:,0]\r\n",
    "final_data[\"Odds1\"] = odds_test[\"Odds1\"]\r\n",
    "final_data[\"Odds2\"] = odds_test[\"Odds2\"]\r\n",
    "final_data[\"Result\"] = y_test"
   ],
   "outputs": [],
   "metadata": {}
  },
  {
   "cell_type": "code",
   "execution_count": 10,
   "source": [
    "final_data.to_csv(\"../Results/RG-2021_upset_probs.csv\",index=None)"
   ],
   "outputs": [],
   "metadata": {}
  }
 ],
 "metadata": {
  "orig_nbformat": 4,
  "language_info": {
   "name": "python",
   "version": "3.9.5",
   "mimetype": "text/x-python",
   "codemirror_mode": {
    "name": "ipython",
    "version": 3
   },
   "pygments_lexer": "ipython3",
   "nbconvert_exporter": "python",
   "file_extension": ".py"
  },
  "kernelspec": {
   "name": "python3",
   "display_name": "Python 3.9.5 64-bit"
  },
  "interpreter": {
   "hash": "6eea5471575db74b1c65b04f0530907bd7698ce23de0a966730cc9d51ae318e5"
  }
 },
 "nbformat": 4,
 "nbformat_minor": 2
}