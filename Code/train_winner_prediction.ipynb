{
 "cells": [
  {
   "cell_type": "code",
   "execution_count": 1,
   "source": [
    "import numpy as np\r\n",
    "import pandas as pd\r\n",
    "import torch\r\n",
    "import torch.nn as nn\r\n",
    "import torch.nn.functional as F\r\n",
    "import matplotlib.pyplot as plt"
   ],
   "outputs": [],
   "metadata": {}
  },
  {
   "cell_type": "code",
   "execution_count": 2,
   "source": [
    "data = pd.read_csv(\"../Results/final_data.csv\")"
   ],
   "outputs": [],
   "metadata": {}
  },
  {
   "cell_type": "code",
   "execution_count": 3,
   "source": [
    "input_features = ['transformedRank1', 'careerMatches1', 'careerWin%1', 'surfaceWin%1', 'tiebreakerWin%1', 'deciderWin%1', 'wearOut1', 'transformedRank2', 'careerMatches1', 'careerWin%2', 'surfaceWin%2', 'tiebreakerWin%2', 'deciderWin%2', 'wearOut2', 'careerH2H', 'h2hWin%1']\r\n",
    "\r\n",
    "X = np.array(data[input_features])\r\n",
    "y = np.array(data[\"Upset\"])\r\n",
    "odds = data[[\"Odds1\",\"Odds2\"]]"
   ],
   "outputs": [],
   "metadata": {}
  },
  {
   "cell_type": "code",
   "execution_count": 4,
   "source": [
    "# Train-Test split\r\n",
    "X_train = torch.from_numpy(X[:10000])\r\n",
    "X_test = torch.from_numpy(X[10000:])\r\n",
    "\r\n",
    "y_train = torch.from_numpy(y[:10000])\r\n",
    "y_test = torch.from_numpy(y[10000:])"
   ],
   "outputs": [],
   "metadata": {}
  },
  {
   "cell_type": "code",
   "execution_count": 5,
   "source": [
    "### Initialze the network\r\n",
    "\r\n",
    "input_size = 16\r\n",
    "output_size = 2            # Player's winning probability and variance in its prediction\r\n",
    "\r\n",
    "model = nn.Sequential(\r\n",
    "    nn.Dropout(0.5),\r\n",
    "    nn.Linear(input_size,output_size),\r\n",
    "    nn.Sigmoid()\r\n",
    ")\r\n",
    "\r\n",
    "print(model)\r\n"
   ],
   "outputs": [
    {
     "output_type": "stream",
     "name": "stdout",
     "text": [
      "Sequential(\n",
      "  (0): Dropout(p=0.5, inplace=False)\n",
      "  (1): Linear(in_features=16, out_features=2, bias=True)\n",
      "  (2): Sigmoid()\n",
      ")\n"
     ]
    }
   ],
   "metadata": {}
  },
  {
   "cell_type": "code",
   "execution_count": 7,
   "source": [
    "def customLoss(y_pred,y):\r\n",
    "    y_pred = torch.max(0.001*torch.ones_like(y_pred),y_pred)\r\n",
    "    prob = y_pred[:,0].unsqueeze(1)\r\n",
    "    var = y_pred[:,1].unsqueeze(1)\r\n",
    "    # torch.mean(F.binary_cross_entropy(prob,y,reduction='none')/var + var)\r\n",
    "    return  torch.mean(F.binary_cross_entropy(prob,y,reduction='none')/(100*var) + var)\r\n",
    "\r\n",
    "criterion = customLoss\r\n",
    "optimizer = torch.optim.Adam(model.parameters(),lr=1e-5)"
   ],
   "outputs": [],
   "metadata": {}
  },
  {
   "cell_type": "code",
   "execution_count": 8,
   "source": [
    "n_epochs = 100\r\n",
    "\r\n",
    "for epoch in range(n_epochs):\r\n",
    "    for i in range(1000):\r\n",
    "        predictions = model(X_train[i:i+10,:].float())\r\n",
    "        targets = y_train[i:i+10].reshape(-1,1)\r\n",
    "        loss = criterion(predictions, targets.detach().float())\r\n",
    "        loss.backward()\r\n",
    "        optimizer.step()\r\n",
    "        optimizer.zero_grad()\r\n",
    "\r\n",
    "    y_pred = model(X_train.float())\r\n",
    "    y_target = y_train.float()\r\n",
    "    y_target = y_target.unsqueeze(1)\r\n",
    "    train_loss = criterion(y_pred,y_target.detach().float()).item()\r\n",
    "\r\n",
    "    y_pred = model(X_test.float())\r\n",
    "    y_target = y_test.float()\r\n",
    "    y_target = y_target.unsqueeze(1)\r\n",
    "    test_loss = criterion(y_pred,y_target.detach().float()).item()\r\n",
    "\r\n",
    "    print(\"Epoch {}: Training loss - {}, Testing loss - {}\".format(epoch+1,train_loss,test_loss))"
   ],
   "outputs": [
    {
     "output_type": "stream",
     "name": "stdout",
     "text": [
      "Epoch 1: Training loss - 1.5550718307495117, Testing loss - 3.1637768745422363\n",
      "Epoch 2: Training loss - 2.1323790550231934, Testing loss - 3.612762928009033\n",
      "Epoch 3: Training loss - 1.2186369895935059, Testing loss - 1.7532048225402832\n",
      "Epoch 4: Training loss - 1.1990450620651245, Testing loss - 3.107952356338501\n",
      "Epoch 5: Training loss - 1.5845732688903809, Testing loss - 3.105802297592163\n",
      "Epoch 6: Training loss - 1.6735517978668213, Testing loss - 2.1603522300720215\n",
      "Epoch 7: Training loss - 1.4679206609725952, Testing loss - 4.034562110900879\n",
      "Epoch 8: Training loss - 1.4600242376327515, Testing loss - 4.030630588531494\n",
      "Epoch 9: Training loss - 1.5576086044311523, Testing loss - 1.6962848901748657\n",
      "Epoch 10: Training loss - 1.4533342123031616, Testing loss - 4.035204887390137\n",
      "Epoch 11: Training loss - 1.5539348125457764, Testing loss - 5.454326629638672\n",
      "Epoch 12: Training loss - 1.9470738172531128, Testing loss - 2.6241414546966553\n",
      "Epoch 13: Training loss - 1.8466861248016357, Testing loss - 2.621558666229248\n",
      "Epoch 14: Training loss - 1.54457688331604, Testing loss - 4.052266597747803\n",
      "Epoch 15: Training loss - 1.2411612272262573, Testing loss - 4.041009426116943\n",
      "Epoch 16: Training loss - 1.4440656900405884, Testing loss - 2.1750383377075195\n",
      "Epoch 17: Training loss - 1.9389734268188477, Testing loss - 1.7169703245162964\n",
      "Epoch 18: Training loss - 1.9363080263137817, Testing loss - 3.5619285106658936\n",
      "Epoch 19: Training loss - 1.7340959310531616, Testing loss - 3.117398500442505\n",
      "Epoch 20: Training loss - 1.5282953977584839, Testing loss - 4.029107093811035\n",
      "Epoch 21: Training loss - 1.2270143032073975, Testing loss - 2.6419053077697754\n",
      "Epoch 22: Training loss - 1.3277254104614258, Testing loss - 3.5666093826293945\n",
      "Epoch 23: Training loss - 1.8232156038284302, Testing loss - 3.0764739513397217\n",
      "Epoch 24: Training loss - 1.4229404926300049, Testing loss - 1.6763237714767456\n",
      "Epoch 25: Training loss - 1.419909954071045, Testing loss - 3.544703483581543\n",
      "Epoch 26: Training loss - 1.9198243618011475, Testing loss - 4.482043743133545\n",
      "Epoch 27: Training loss - 1.61709463596344, Testing loss - 3.536569356918335\n",
      "Epoch 28: Training loss - 0.21866582334041595, Testing loss - 0.2600548565387726\n",
      "Epoch 29: Training loss - 0.2158384472131729, Testing loss - 0.25351420044898987\n",
      "Epoch 30: Training loss - 0.21208427846431732, Testing loss - 0.26016315817832947\n",
      "Epoch 31: Training loss - 0.2116600126028061, Testing loss - 0.2485784888267517\n",
      "Epoch 32: Training loss - 0.20900771021842957, Testing loss - 0.2476816028356552\n",
      "Epoch 33: Training loss - 0.2092483639717102, Testing loss - 0.24384160339832306\n",
      "Epoch 34: Training loss - 0.20559443533420563, Testing loss - 0.23976077139377594\n",
      "Epoch 35: Training loss - 0.20631492137908936, Testing loss - 0.2437608242034912\n",
      "Epoch 36: Training loss - 0.2053806185722351, Testing loss - 0.24077846109867096\n",
      "Epoch 37: Training loss - 0.20426726341247559, Testing loss - 0.2375398427248001\n",
      "Epoch 38: Training loss - 0.20445267856121063, Testing loss - 0.23403261601924896\n",
      "Epoch 39: Training loss - 0.20201607048511505, Testing loss - 0.23477020859718323\n",
      "Epoch 40: Training loss - 0.20369112491607666, Testing loss - 0.24132706224918365\n",
      "Epoch 41: Training loss - 0.200090691447258, Testing loss - 0.22526907920837402\n",
      "Epoch 42: Training loss - 0.1993691474199295, Testing loss - 0.22688764333724976\n",
      "Epoch 43: Training loss - 0.197420135140419, Testing loss - 0.22859199345111847\n",
      "Epoch 44: Training loss - 0.19749240577220917, Testing loss - 0.23201900720596313\n",
      "Epoch 45: Training loss - 0.1959548145532608, Testing loss - 0.2249477058649063\n",
      "Epoch 46: Training loss - 0.19653955101966858, Testing loss - 0.22503608465194702\n",
      "Epoch 47: Training loss - 0.19687335193157196, Testing loss - 0.22300474345684052\n",
      "Epoch 48: Training loss - 0.19538378715515137, Testing loss - 0.22177338600158691\n",
      "Epoch 49: Training loss - 0.1929198056459427, Testing loss - 0.22269637882709503\n",
      "Epoch 50: Training loss - 0.19346654415130615, Testing loss - 0.22310318052768707\n",
      "Epoch 51: Training loss - 0.19435055553913116, Testing loss - 0.2098163515329361\n",
      "Epoch 52: Training loss - 0.1940297782421112, Testing loss - 0.21649649739265442\n",
      "Epoch 53: Training loss - 0.19364579021930695, Testing loss - 0.21105434000492096\n",
      "Epoch 54: Training loss - 0.19241316616535187, Testing loss - 0.21443484723567963\n",
      "Epoch 55: Training loss - 0.19128535687923431, Testing loss - 0.21283632516860962\n",
      "Epoch 56: Training loss - 0.19172999262809753, Testing loss - 0.22252868115901947\n",
      "Epoch 57: Training loss - 0.19078408181667328, Testing loss - 0.21238550543785095\n",
      "Epoch 58: Training loss - 0.18873389065265656, Testing loss - 0.21541224420070648\n",
      "Epoch 59: Training loss - 0.18885110318660736, Testing loss - 0.2101001888513565\n",
      "Epoch 60: Training loss - 0.1900920420885086, Testing loss - 0.2106819599866867\n",
      "Epoch 61: Training loss - 0.1887761801481247, Testing loss - 0.20901541411876678\n",
      "Epoch 62: Training loss - 0.19021224975585938, Testing loss - 0.20431657135486603\n",
      "Epoch 63: Training loss - 0.1880628913640976, Testing loss - 0.2056591808795929\n",
      "Epoch 64: Training loss - 0.18938592076301575, Testing loss - 0.20972678065299988\n",
      "Epoch 65: Training loss - 0.1888982355594635, Testing loss - 0.20621375739574432\n",
      "Epoch 66: Training loss - 0.18831150233745575, Testing loss - 0.20240721106529236\n",
      "Epoch 67: Training loss - 0.1877834051847458, Testing loss - 0.2094215303659439\n",
      "Epoch 68: Training loss - 0.18826501071453094, Testing loss - 0.20624104142189026\n",
      "Epoch 69: Training loss - 0.1871064454317093, Testing loss - 0.20200622081756592\n",
      "Epoch 70: Training loss - 0.18723812699317932, Testing loss - 0.20673061907291412\n",
      "Epoch 71: Training loss - 0.18664951622486115, Testing loss - 0.20274868607521057\n",
      "Epoch 72: Training loss - 0.1861121654510498, Testing loss - 0.20755940675735474\n",
      "Epoch 73: Training loss - 0.18642786145210266, Testing loss - 0.1967928260564804\n",
      "Epoch 74: Training loss - 0.18659377098083496, Testing loss - 0.2012467235326767\n",
      "Epoch 75: Training loss - 0.18635356426239014, Testing loss - 0.20219700038433075\n",
      "Epoch 76: Training loss - 0.18563315272331238, Testing loss - 0.19669845700263977\n",
      "Epoch 77: Training loss - 0.18486449122428894, Testing loss - 0.20291925966739655\n",
      "Epoch 78: Training loss - 0.18422460556030273, Testing loss - 0.20406246185302734\n",
      "Epoch 79: Training loss - 0.18489381670951843, Testing loss - 0.201768159866333\n",
      "Epoch 80: Training loss - 0.18381796777248383, Testing loss - 0.20055994391441345\n",
      "Epoch 81: Training loss - 0.1834983378648758, Testing loss - 0.1981615275144577\n",
      "Epoch 82: Training loss - 0.18303973972797394, Testing loss - 0.19928127527236938\n",
      "Epoch 83: Training loss - 0.18392708897590637, Testing loss - 0.19107428193092346\n",
      "Epoch 84: Training loss - 0.1825239658355713, Testing loss - 0.19708086550235748\n",
      "Epoch 85: Training loss - 0.1820036917924881, Testing loss - 0.19745637476444244\n",
      "Epoch 86: Training loss - 0.18300306797027588, Testing loss - 0.20340557396411896\n",
      "Epoch 87: Training loss - 0.18259379267692566, Testing loss - 0.1975107640028\n",
      "Epoch 88: Training loss - 0.1837618350982666, Testing loss - 0.19933278858661652\n",
      "Epoch 89: Training loss - 0.18249858915805817, Testing loss - 0.19677592813968658\n",
      "Epoch 90: Training loss - 0.18313860893249512, Testing loss - 0.2005368322134018\n",
      "Epoch 91: Training loss - 0.18292565643787384, Testing loss - 0.19493065774440765\n",
      "Epoch 92: Training loss - 0.18270999193191528, Testing loss - 0.19767284393310547\n",
      "Epoch 93: Training loss - 0.18136216700077057, Testing loss - 0.19352957606315613\n",
      "Epoch 94: Training loss - 0.1817166954278946, Testing loss - 0.19827893376350403\n",
      "Epoch 95: Training loss - 0.18121130764484406, Testing loss - 0.1930524855852127\n",
      "Epoch 96: Training loss - 0.18304328620433807, Testing loss - 0.1946987807750702\n",
      "Epoch 97: Training loss - 0.1832132637500763, Testing loss - 0.19470833241939545\n",
      "Epoch 98: Training loss - 0.18171170353889465, Testing loss - 0.19649279117584229\n",
      "Epoch 99: Training loss - 0.18103645741939545, Testing loss - 0.19724273681640625\n",
      "Epoch 100: Training loss - 0.18023250997066498, Testing loss - 0.19832617044448853\n"
     ]
    }
   ],
   "metadata": {}
  },
  {
   "cell_type": "code",
   "execution_count": 17,
   "source": [
    "y_pred = model(X_test.float())\r\n",
    "predictions = y_pred.detach().numpy()\r\n",
    "\r\n",
    "plt.figure(figsize=(10,5))\r\n",
    "plt.hist(predictions,bins=20)\r\n",
    "plt.title(\"Prediction distribution\")\r\n",
    "plt.legend([\"Upset probability\",\"Variance\"])\r\n",
    "plt.show()"
   ],
   "outputs": [
    {
     "output_type": "display_data",
     "data": {
      "text/plain": [
       "<Figure size 720x360 with 1 Axes>"
      ],
      "image/png": "[encoded data removed]"
     },
     "metadata": {
      "needs_background": "light"
     }
    }
   ],
   "metadata": {}
  },
  {
   "cell_type": "code",
   "execution_count": 35,
   "source": [
    "odds_test = odds[10000:].copy(deep=True)\r\n",
    "odds_test = odds_test.reset_index()\r\n",
    "odds_test.drop(columns=[\"index\"],inplace=True)\r\n",
    "\r\n",
    "final_data = pd.DataFrame()\r\n",
    "final_data[\"Predicted prob\"] = predictions[:,0]\r\n",
    "final_data[\"Predicted variance\"] = predictions[:,0]\r\n",
    "final_data[\"Odds1\"] = odds_test[\"Odds1\"]\r\n",
    "final_data[\"Odds2\"] = odds_test[\"Odds2\"]\r\n",
    "final_data[\"Result\"] = y_test"
   ],
   "outputs": [],
   "metadata": {}
  },
  {
   "cell_type": "code",
   "execution_count": 38,
   "source": [
    "torch.save(model.state_dict(),\"../Results/model_weights.pt\")"
   ],
   "outputs": [],
   "metadata": {}
  },
  {
   "cell_type": "code",
   "execution_count": 39,
   "source": [
    "final_data.to_csv(\"../Results/upset_probs.csv\",index=None)"
   ],
   "outputs": [],
   "metadata": {}
  },
  {
   "cell_type": "code",
   "execution_count": null,
   "source": [],
   "outputs": [],
   "metadata": {}
  }
 ],
 "metadata": {
  "orig_nbformat": 4,
  "language_info": {
   "name": "python",
   "version": "3.9.5",
   "mimetype": "text/x-python",
   "codemirror_mode": {
    "name": "ipython",
    "version": 3
   },
   "pygments_lexer": "ipython3",
   "nbconvert_exporter": "python",
   "file_extension": ".py"
  },
  "kernelspec": {
   "name": "python3",
   "display_name": "Python 3.9.5 64-bit"
  },
  "interpreter": {
   "hash": "6eea5471575db74b1c65b04f0530907bd7698ce23de0a966730cc9d51ae318e5"
  }
 },
 "nbformat": 4,
 "nbformat_minor": 2
}